{
 "cells": [
  {
   "cell_type": "markdown",
   "id": "8b1c2ac8-23c8-4452-9a71-656c5987c6f0",
   "metadata": {},
   "source": [
    "# Tutorial 1: Calculando ENSO index com o xarray\n",
    "\n",
    "**Autor:** Elisa Passos"
   ]
  },
  {
   "cell_type": "markdown",
   "id": "ed40367b-9aa8-4919-ae67-89d1a27f5a83",
   "metadata": {},
   "source": [
    "## Importanto as bibliotecas"
   ]
  },
  {
   "cell_type": "code",
   "execution_count": null,
   "id": "c0aed116-e7eb-4fa1-8bd6-51db91ad1873",
   "metadata": {},
   "outputs": [],
   "source": [
    "import os\n",
    "import matplotlib.pyplot as plt\n",
    "import matplotlib as mpl\n",
    "from matplotlib.patches import Polygon\n",
    "import numpy as np\n",
    "from datetime import datetime\n",
    "from pythia_datasets import DATASETS\n",
    "from dateutil.relativedelta import relativedelta\n",
    "import pandas as pd\n",
    "import xarray as xr\n",
    "from noaa_ftp import NOAA"
   ]
  },
  {
   "cell_type": "markdown",
   "id": "198f2cfb-9945-4aef-b998-d70b5b0c1a70",
   "metadata": {},
   "source": [
    "# Objetivos do Tutorial\n",
    "\n",
    "Neste caderno (adaptado do [Projeto Pythia](https://foundations.projectpythia.org/core/xarray/enso-xarray.html)), você irá praticar o uso de várias ferramentas para examinar a temperatura da superfície do mar (SST) e explorar variações no sistema climático que ocorrem durante os eventos El Niño e La Niña. Você aprenderá a:\n",
    "\n",
    "1. Carregar dados de Temperatura da Superfície do Mar do produto OISST\n",
    "2. Mascarar dados usando `.where()`\n",
    "3. Calcular climatologias e anomalias usando `.groupby()`\n",
    "4. Usar `.rolling()` para calcular a média móvel\n",
    "5. Calcular, normalizar e plotar o Índice Oceânico Niño\n",
    "\n",
    "Após completar as tarefas acima, você deverá ser capaz de plotar o [Índice Oceânico Niño](https://climatedataguide.ucar.edu/climate-data/nino-sst-indices-nino-12-3-34-4-oni-and-tni) que se assemelha à figura abaixo. As regiões vermelha e azul correspondem às fases de El Niño e La Niña, respectivamente.\n",
    "\n",
    "![Gráfico do índice ONI do Guia de Dados Climáticos da NCAR](https://climatedataguide.ucar.edu/sites/default/files/styles/extra_large/public/2022-03/indices_oni_2_2_lg.png)\n",
    "\n",
    "Crédito: [NCAR](https://climatedataguide.ucar.edu/sites/default/files/styles/extra_large/public/2022-03/indices_oni_2_2_lg.png)\n",
    "\n",
    "Crédito do Pythia: Rose, B. E. J., Kent, J., Tyle, K., Clyne, J., Banihirwe, A., Camron, D., May, R., Grover, M., Ford, R. R., Paul, K., Morley, J., Eroglu, O., Kailyn, L., & Zacharias, A. (2023). Pythia Foundations (Versão v2023.05.01) https://zenodo.org/record/8065851"
   ]
  },
  {
   "cell_type": "markdown",
   "id": "6542219e-deef-45e3-b2e4-e96c192b7ed0",
   "metadata": {},
   "source": [
    "# Seção 1: Introdução à Oscilação Sul do El Niño (ENSO)\n",
    "\n",
    "A região geográfica compreendida entre **5ºN-5ºS e 190ºE-240ºE (ou 170ºW-120ºW)** é conhecida como **região Niño 3.4**. Esta região se localiza no Oceano Pacífico tropical e é comumente usada como uma métrica para determinar a fase da Oscilação Sul do El Niño (ENSO). ENSO é um padrão climático recorrente que envolve mudanças na SST no Oceano Pacífico tropical central e oriental, que possui duas fases alternadas:\n",
    "\n",
    "- **El Niño:** a fase do ENSO caracterizada por SSTs mais quentes que a média no Oceano Pacífico tropical central e oriental, enfraquecimento dos ventos equatoriais de leste a oeste e aumento das chuvas no Pacífico tropical oriental.\n",
    "- **La Niña:** a fase do ENSO que é caracterizada por SSTs mais frias que a média no Oceano Pacífico tropical central e oriental, ventos equatoriais de leste a oeste mais fortes e diminuição das chuvas no Pacífico tropical oriental.\n",
    "\n",
    "## Seção 1.1: Processos Climáticos no Pacífico Tropical\n",
    "\n",
    "Para entender melhor os processos do sistema climático que resultam nos eventos El Niño e La Niña, vamos primeiro considerar as condições climáticas típicas no Oceano Pacífico tropical. Os **ventos alísios** são ventos que sopram de leste a oeste ao norte e ao sul do equador (às vezes referidos como ventos \"de leste\" já que os ventos têm origem no leste e sopram em direção ao oeste). E como discutimos ontem, a razão pela qual os ventos alísios sopram de leste a oeste está relacionada à rotação da Terra, que faz com que os ventos no Hemisfério Norte se curvem para a direita e os ventos no Hemisfério Sul se curvem para a esquerda. Isso é conhecido como o **efeito de Coriolis**.\n",
    "\n",
    "Se a rotação da Terra afeta o movimento do ar, você acha que também influencia o movimento da água do oceano superficial? Sim! Conforme os ventos alísios sopram sobre o Oceano Pacífico tropical, eles movem a água devido ao atrito na superfície do oceano. Mas devido ao efeito de Coriolis, a água da superfície do oceano se move para a direita da direção do vento no Hemisfério Norte e para a esquerda da direção do vento no Hemisfério Sul. No entanto, a velocidade e a direção do movimento da água mudam com a profundidade. A água da superfície do oceano se move em um ângulo em relação ao vento, e a água abaixo da superfície se move em um ângulo ligeiramente maior, e a água abaixo disso gira em um ângulo ainda maior. A direção média de toda essa água em movimento é aproximadamente um ângulo reto em relação à direção do vento. Esse valor médio é conhecido como **transporte de Ekman**. Como esse processo é impulsionado pelos ventos alísios, a intensidade desse transporte de água oceânica varia em resposta a mudanças na intensidade dos ventos alísios.\n",
    "\n",
    "## Seção 1.2: Interações Oceano-Atmosfera Durante El Niño e La Niña\n",
    "\n",
    "Então, como tudo isso se relaciona com El Niño e La Niña? Mudanças na intensidade dos ventos alísios do Oceano Pacífico e o impacto resultante no transporte de Ekman criam variações na SST do Pacífico tropical, o que resulta em mudanças nos padrões de circulação atmosférica e nas chuvas.\n",
    "\n",
    "Durante um evento El Niño, **_os ventos alísios de leste são mais fracos_**. Como resultado, menos água superficial quente é transportada para o oeste via transporte de Ekman, o que causa um acúmulo de água superficial quente no Pacífico equatorial oriental. Isso cria SSTs mais quentes que a média no Oceano Pacífico equatorial oriental. A atmosfera responde a esse aquecimento com um aumento no movimento ascendente do ar e chuvas acima da média no Pacífico oriental. Em contraste, durante um evento La Niña, **_os ventos alísios de leste são mais fortes_**. Como resultado, mais água superficial quente é transportada para o oeste via transporte de Ekman, e água fria de mais profundidade no oceano sobe no Pacífico oriental durante um processo conhecido como ressurgência. Isso cria SSTs mais frias que a média no Oceano Pacífico equatorial oriental. Esse resfriamento diminui o movimento ascendente do ar no Pacífico oriental, resultando em condições mais secas que a média.\n",
    "\n",
    "Neste tutorial, examinaremos as temperaturas de SST para explorar variações no sistema climático que ocorrem durante os eventos El Niño e La Niña. Especificamente, vamos plotar e interpretar dados de SST do OISST da região Niño 3.4.\n",
    "\n"
   ]
  },
  {
   "cell_type": "markdown",
   "id": "2dc4f266-3a18-485e-ae67-0fea0c7dd6d9",
   "metadata": {},
   "source": [
    "### Fazendo o download dos dados"
   ]
  },
  {
   "cell_type": "code",
   "execution_count": null,
   "id": "ca2db221-0fb8-4ee7-9823-2ee86bed6142",
   "metadata": {},
   "outputs": [],
   "source": [
    "# retrive (fetch) the SST data we are going to be working on\n",
    "SST_path = DATASETS.fetch(\"CESM2_sst_data.nc\")\n",
    "\n",
    "# open the file we acquired with xarray\n",
    "SST_data = xr.open_dataset(SST_path)\n",
    "\n",
    "# remember that one degree spatial cell is not constant around the globe, each is a different size in square km.\n",
    "# we need to account for this when taking averages for example\n",
    "\n",
    "# fetch the weight for each grid cell\n",
    "gridvars_path = DATASETS.fetch(\"CESM2_grid_variables.nc\")\n",
    "\n",
    "# open and save only the gridcell weights whose variable name is 'areacello'\n",
    "# here the 'o' at the end refers to the area cells of the 'ocean' grid\n",
    "areacello_data = xr.open_dataset(gridvars_path).areacello\n",
    "\n",
    "# merge the SST and weights into one easy to use dataset - ds stands for dataset\n",
    "ds_SST = xr.merge([SST_data, areacello_data])\n",
    "ds_SST"
   ]
  },
  {
   "cell_type": "markdown",
   "id": "44ca4d0e-ed08-47e7-9b9b-907c72c85fb3",
   "metadata": {
    "tags": []
   },
   "source": [
    "### Carregando os arquivos e primeiros plots"
   ]
  },
  {
   "cell_type": "code",
   "execution_count": null,
   "id": "d5b1b537-0d38-4e7c-b759-4fd15bb474df",
   "metadata": {},
   "outputs": [],
   "source": [
    "da_SST.plot()"
   ]
  },
  {
   "cell_type": "markdown",
   "id": "5c10858f-c5fe-4b6e-aeee-3f5e051c95d9",
   "metadata": {},
   "source": [
    "### Gerando a TSM para o Niño 3.4"
   ]
  },
  {
   "cell_type": "code",
   "execution_count": null,
   "id": "a2a0dda6-1224-4191-b671-45e40d33bf87",
   "metadata": {},
   "outputs": [],
   "source": [
    "latitude = da['lat']\n",
    "weights = np.cos(np.deg2rad(latitude))\n",
    "weights.name = \"weights\""
   ]
  },
  {
   "cell_type": "code",
   "execution_count": null,
   "id": "05b6a484-d338-44e8-ba84-d5c274058d7e",
   "metadata": {},
   "outputs": [],
   "source": []
  }
 ],
 "metadata": {
  "kernelspec": {
   "display_name": "Python 3 (ipykernel)",
   "language": "python",
   "name": "python3"
  },
  "language_info": {
   "codemirror_mode": {
    "name": "ipython",
    "version": 3
   },
   "file_extension": ".py",
   "mimetype": "text/x-python",
   "name": "python",
   "nbconvert_exporter": "python",
   "pygments_lexer": "ipython3",
   "version": "3.10.12"
  }
 },
 "nbformat": 4,
 "nbformat_minor": 5
}
